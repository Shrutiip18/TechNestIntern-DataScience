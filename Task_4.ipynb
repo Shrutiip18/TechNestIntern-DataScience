{
  "nbformat": 4,
  "nbformat_minor": 0,
  "metadata": {
    "colab": {
      "provenance": []
    },
    "kernelspec": {
      "name": "python3",
      "display_name": "Python 3"
    },
    "language_info": {
      "name": "python"
    }
  },
  "cells": [
    {
      "cell_type": "markdown",
      "source": [
        "#Task-4"
      ],
      "metadata": {
        "id": "y9IYNjpinAjt"
      }
    },
    {
      "cell_type": "markdown",
      "source": [
        "###(A) Formulate And Solve A Business Optimization Problem Using Cost Minimization."
      ],
      "metadata": {
        "id": "PEqXf-bMnNNf"
      }
    },
    {
      "cell_type": "code",
      "source": [
        "!pip install pulp"
      ],
      "metadata": {
        "colab": {
          "base_uri": "https://localhost:8080/"
        },
        "id": "XCg-ZGkyiXlp",
        "outputId": "493b4580-7125-4c2a-b5a9-9f3cb0d32eb1"
      },
      "execution_count": null,
      "outputs": [
        {
          "output_type": "stream",
          "name": "stdout",
          "text": [
            "Collecting pulp\n",
            "  Downloading pulp-3.2.1-py3-none-any.whl.metadata (6.9 kB)\n",
            "Downloading pulp-3.2.1-py3-none-any.whl (16.4 MB)\n",
            "\u001b[2K   \u001b[90m━━━━━━━━━━━━━━━━━━━━━━━━━━━━━━━━━━━━━━━━\u001b[0m \u001b[32m16.4/16.4 MB\u001b[0m \u001b[31m46.5 MB/s\u001b[0m eta \u001b[36m0:00:00\u001b[0m\n",
            "\u001b[?25hInstalling collected packages: pulp\n",
            "Successfully installed pulp-3.2.1\n"
          ]
        }
      ]
    },
    {
      "cell_type": "code",
      "execution_count": null,
      "metadata": {
        "colab": {
          "base_uri": "https://localhost:8080/"
        },
        "id": "r-CjUab5hXhn",
        "outputId": "46a543b6-6c83-4498-c725-413188572119"
      },
      "outputs": [
        {
          "output_type": "stream",
          "name": "stdout",
          "text": [
            "Status: Optimal\n",
            "Optimal shipments:\n",
            " F → Ship: 1889.00 units\n",
            " F → Flight: 1777.00 units\n",
            " D → Ship: 74.00 units\n",
            " D → Road: 1760.00 units\n",
            " A → Ship: 1833.00 units\n",
            " B → Ship: 1833.00 units\n",
            " C → Ship: 1833.00 units\n",
            "Total Estimated Cost: ₹2,452,387.77\n"
          ]
        }
      ],
      "source": [
        "import pandas as pd\n",
        "from pulp import LpMinimize, LpProblem, LpVariable, lpSum, LpStatus, value\n",
        "\n",
        "# Load dataset\n",
        "df = pd.read_csv('/content/supply_chain_dataset.csv')\n",
        "\n",
        "# Aggregate counts\n",
        "supply = df['Warehouse_block'].value_counts().to_dict()\n",
        "demand = df['Mode_of_Shipment'].value_counts().to_dict()\n",
        "\n",
        "warehouses = list(supply.keys())\n",
        "shipments = list(demand.keys())\n",
        "\n",
        "# Simulated costs: average cost + discount for each warehouse-shipment pair\n",
        "cost_matrix = df.groupby(['Warehouse_block', 'Mode_of_Shipment'])[['Cost_of_the_Product', 'Discount_offered']].mean().sum(axis=1).to_dict()\n",
        "\n",
        "# Initialize LP model\n",
        "model = LpProblem(\"Shipping_Cost_Minimization\", LpMinimize)\n",
        "\n",
        "# Decision variables: number of shipments from warehouse to shipment mode\n",
        "x = LpVariable.dicts(\"Route\", (warehouses, shipments), lowBound=0, cat='Continuous')\n",
        "\n",
        "# Objective: minimize total cost\n",
        "model += lpSum(cost_matrix.get((w, s), 9999) * x[w][s] for w in warehouses for s in shipments)\n",
        "\n",
        "# Supply constraint\n",
        "for w in warehouses:\n",
        "    model += lpSum(x[w][s] for s in shipments) <= supply[w], f\"Supply_{w}\"\n",
        "\n",
        "# Demand constraint\n",
        "for s in shipments:\n",
        "    model += lpSum(x[w][s] for w in warehouses) >= demand[s], f\"Demand_{s}\"\n",
        "\n",
        "# Solve model\n",
        "model.solve()\n",
        "print(f\"Status: {LpStatus[model.status]}\")\n",
        "print(\"Optimal shipments:\")\n",
        "for w in warehouses:\n",
        "    for s in shipments:\n",
        "        shipped = x[w][s].varValue\n",
        "        if shipped > 0:\n",
        "            print(f\" {w} → {s}: {shipped:.2f} units\")\n",
        "\n",
        "print(f\"Total Estimated Cost: ₹{value(model.objective):,.2f}\")\n"
      ]
    },
    {
      "cell_type": "markdown",
      "source": [
        "###(B) Formulate And Solve A Business Optimization Problem Using Resource Allocation."
      ],
      "metadata": {
        "id": "GacK7Pgvnad2"
      }
    },
    {
      "cell_type": "code",
      "source": [
        "import pandas as pd\n",
        "from pulp import LpMaximize, LpProblem, LpVariable, lpSum, LpStatus, value\n",
        "\n",
        "# Load the dataset\n",
        "df = pd.read_csv('/content/supply_chain_dataset.csv')\n",
        "\n",
        "# Aggregate average customer rating (as profit), and average cost (as resource usage)\n",
        "summary = df.groupby('Mode_of_Shipment').agg({\n",
        "    'Customer_rating': 'mean',\n",
        "    'Cost_of_the_Product': 'mean'\n",
        "}).reset_index()\n",
        "\n",
        "# Set values for resource allocation\n",
        "profit = summary.set_index('Mode_of_Shipment')['Customer_rating'].to_dict()\n",
        "cost = summary.set_index('Mode_of_Shipment')['Cost_of_the_Product'].to_dict()\n",
        "modes = list(profit.keys())\n",
        "\n",
        "# Total shipping budget available\n",
        "budget = 100000  # you can change this value\n",
        "\n",
        "# Initialize model\n",
        "model = LpProblem(\"Resource_Allocation_Maximize_Satisfaction\", LpMaximize)\n",
        "\n",
        "# Decision variables: how many units to allocate per shipping mode\n",
        "x = LpVariable.dicts(\"Allocate\", modes, lowBound=0, cat='Continuous')\n",
        "\n",
        "# Objective: maximize total satisfaction\n",
        "model += lpSum(profit[m] * x[m] for m in modes)\n",
        "\n",
        "# Constraint: total cost must not exceed budget\n",
        "model += lpSum(cost[m] * x[m] for m in modes) <= budget, \"BudgetConstraint\"\n",
        "\n",
        "# Solve\n",
        "model.solve()\n",
        "\n",
        "# Output results\n",
        "print(f\"Status: {LpStatus[model.status]}\")\n",
        "print(\"Optimal Resource Allocation:\")\n",
        "for m in modes:\n",
        "    print(f\"  {m}: {x[m].varValue:.2f} units\")\n",
        "\n",
        "print(f\"Total Customer Satisfaction Score: {value(model.objective):.2f}\")\n"
      ],
      "metadata": {
        "id": "QA6DaYrFhcyZ",
        "colab": {
          "base_uri": "https://localhost:8080/"
        },
        "outputId": "84ae19d0-b3b9-4be4-ee09-17ebb15c34c5"
      },
      "execution_count": null,
      "outputs": [
        {
          "output_type": "stream",
          "name": "stdout",
          "text": [
            "Status: Optimal\n",
            "Optimal Resource Allocation:\n",
            "  Flight: 477.77 units\n",
            "  Road: 0.00 units\n",
            "  Ship: 0.00 units\n",
            "Total Customer Satisfaction Score: 1424.97\n"
          ]
        }
      ]
    },
    {
      "cell_type": "code",
      "source": [],
      "metadata": {
        "id": "9rJq3q-Yk4wE"
      },
      "execution_count": null,
      "outputs": []
    }
  ]
}
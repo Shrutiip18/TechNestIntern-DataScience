{
  "nbformat": 4,
  "nbformat_minor": 0,
  "metadata": {
    "colab": {
      "provenance": []
    },
    "kernelspec": {
      "name": "python3",
      "display_name": "Python 3"
    },
    "language_info": {
      "name": "python"
    }
  },
  "cells": [
    {
      "cell_type": "markdown",
      "source": [
        "# Task-6"
      ],
      "metadata": {
        "id": "vR88fwN6-yAA"
      }
    },
    {
      "cell_type": "markdown",
      "source": [
        "### (A)Compare multiple machine learning models on a dataset."
      ],
      "metadata": {
        "id": "FOaruB1p-n8b"
      }
    },
    {
      "cell_type": "code",
      "source": [
        "#Step-1-> Import Required Libraries\n",
        "import pandas as pd\n",
        "import numpy as np\n",
        "import matplotlib.pyplot as plt\n",
        "import seaborn as sns\n",
        "\n",
        "from sklearn.model_selection import train_test_split, GridSearchCV, RandomizedSearchCV\n",
        "from sklearn.preprocessing import StandardScaler, LabelEncoder\n",
        "from sklearn.metrics import accuracy_score, f1_score, roc_auc_score, classification_report, confusion_matrix, roc_curve\n",
        "\n",
        "from sklearn.linear_model import LogisticRegression\n",
        "from sklearn.ensemble import RandomForestClassifier\n",
        "from sklearn.svm import SVC\n",
        "from sklearn.neighbors import KNeighborsClassifier\n",
        "from xgboost import XGBClassifier\n"
      ],
      "metadata": {
        "id": "Cz1bTNNU_jF_"
      },
      "execution_count": null,
      "outputs": []
    },
    {
      "cell_type": "code",
      "source": [
        "#Step-2-> Load and Explore the Dataset\n",
        "df = pd.read_csv(\"/content/StudentsPerformance.csv\")\n",
        "df.head()\n",
        "df.info()\n",
        "df.describe()\n",
        "df.isnull().sum()\n"
      ],
      "metadata": {
        "colab": {
          "base_uri": "https://localhost:8080/",
          "height": 608
        },
        "id": "TorUbm-AABta",
        "outputId": "d1b16762-d319-4e8b-da5c-bf05efe46bd9"
      },
      "execution_count": null,
      "outputs": [
        {
          "output_type": "stream",
          "name": "stdout",
          "text": [
            "<class 'pandas.core.frame.DataFrame'>\n",
            "RangeIndex: 1000 entries, 0 to 999\n",
            "Data columns (total 8 columns):\n",
            " #   Column                       Non-Null Count  Dtype \n",
            "---  ------                       --------------  ----- \n",
            " 0   gender                       1000 non-null   object\n",
            " 1   race/ethnicity               1000 non-null   object\n",
            " 2   parental level of education  1000 non-null   object\n",
            " 3   lunch                        1000 non-null   object\n",
            " 4   test preparation course      1000 non-null   object\n",
            " 5   math score                   1000 non-null   int64 \n",
            " 6   reading score                1000 non-null   int64 \n",
            " 7   writing score                1000 non-null   int64 \n",
            "dtypes: int64(3), object(5)\n",
            "memory usage: 62.6+ KB\n"
          ]
        },
        {
          "output_type": "execute_result",
          "data": {
            "text/plain": [
              "gender                         0\n",
              "race/ethnicity                 0\n",
              "parental level of education    0\n",
              "lunch                          0\n",
              "test preparation course        0\n",
              "math score                     0\n",
              "reading score                  0\n",
              "writing score                  0\n",
              "dtype: int64"
            ],
            "text/html": [
              "<div>\n",
              "<style scoped>\n",
              "    .dataframe tbody tr th:only-of-type {\n",
              "        vertical-align: middle;\n",
              "    }\n",
              "\n",
              "    .dataframe tbody tr th {\n",
              "        vertical-align: top;\n",
              "    }\n",
              "\n",
              "    .dataframe thead th {\n",
              "        text-align: right;\n",
              "    }\n",
              "</style>\n",
              "<table border=\"1\" class=\"dataframe\">\n",
              "  <thead>\n",
              "    <tr style=\"text-align: right;\">\n",
              "      <th></th>\n",
              "      <th>0</th>\n",
              "    </tr>\n",
              "  </thead>\n",
              "  <tbody>\n",
              "    <tr>\n",
              "      <th>gender</th>\n",
              "      <td>0</td>\n",
              "    </tr>\n",
              "    <tr>\n",
              "      <th>race/ethnicity</th>\n",
              "      <td>0</td>\n",
              "    </tr>\n",
              "    <tr>\n",
              "      <th>parental level of education</th>\n",
              "      <td>0</td>\n",
              "    </tr>\n",
              "    <tr>\n",
              "      <th>lunch</th>\n",
              "      <td>0</td>\n",
              "    </tr>\n",
              "    <tr>\n",
              "      <th>test preparation course</th>\n",
              "      <td>0</td>\n",
              "    </tr>\n",
              "    <tr>\n",
              "      <th>math score</th>\n",
              "      <td>0</td>\n",
              "    </tr>\n",
              "    <tr>\n",
              "      <th>reading score</th>\n",
              "      <td>0</td>\n",
              "    </tr>\n",
              "    <tr>\n",
              "      <th>writing score</th>\n",
              "      <td>0</td>\n",
              "    </tr>\n",
              "  </tbody>\n",
              "</table>\n",
              "</div><br><label><b>dtype:</b> int64</label>"
            ]
          },
          "metadata": {},
          "execution_count": 2
        }
      ]
    },
    {
      "cell_type": "code",
      "source": [
        "#Step-3-> Data Preprocessing:-\n",
        "   #(a) Encode categorical variables\n",
        "   #(b) Normalize/scale numerical features\n",
        "   #(c) Convert target variable to binary\n",
        "\n",
        "# Example: Binary target\n",
        "df['target'] = (df['math score'] >= 50).astype(int)\n",
        "\n",
        "# Encode categorical columns\n",
        "cat_cols = df.select_dtypes(include='object').columns\n",
        "df[cat_cols] = df[cat_cols].apply(LabelEncoder().fit_transform)\n",
        "\n",
        "# Feature-target split\n",
        "X = df.drop('target', axis=1)\n",
        "y = df['target']\n",
        "\n",
        "# Train-test split\n",
        "X_train, X_test, y_train, y_test = train_test_split(X, y, test_size=0.2, random_state=42)\n",
        "\n",
        "# Standardize\n",
        "scaler = StandardScaler()\n",
        "X_train = scaler.fit_transform(X_train)\n",
        "X_test = scaler.transform(X_test)\n"
      ],
      "metadata": {
        "id": "7YdgJtEyAMwz"
      },
      "execution_count": null,
      "outputs": []
    },
    {
      "cell_type": "code",
      "source": [
        "#Step-4-> Train Multiple Models\n",
        "models = {\n",
        "    \"Logistic Regression\": LogisticRegression(),\n",
        "    \"Random Forest\": RandomForestClassifier(),\n",
        "    \"SVM\": SVC(probability=True),\n",
        "    \"KNN\": KNeighborsClassifier(),\n",
        "    \"XGBoost\": XGBClassifier(eval_metric='logloss')\n",
        "\n",
        "}\n",
        "\n",
        "results = []\n",
        "\n",
        "for name, model in models.items():\n",
        "    model.fit(X_train, y_train)\n",
        "    y_pred = model.predict(X_test)\n",
        "    y_prob = model.predict_proba(X_test)[:,1]\n",
        "\n",
        "    acc = accuracy_score(y_test, y_pred)\n",
        "    f1 = f1_score(y_test, y_pred)\n",
        "    roc = roc_auc_score(y_test, y_prob)\n",
        "\n",
        "    results.append({\n",
        "        'Model': name,\n",
        "        'Accuracy': acc,\n",
        "        'F1-Score': f1,\n",
        "        'ROC-AUC': roc\n",
        "    })\n"
      ],
      "metadata": {
        "id": "sE1oBkH5Ae7L"
      },
      "execution_count": null,
      "outputs": []
    },
    {
      "cell_type": "code",
      "source": [
        "#Step-5-> Model Comparison Table\n",
        "results_df = pd.DataFrame(results).sort_values(by='ROC-AUC', ascending=False)\n",
        "print(results_df)\n"
      ],
      "metadata": {
        "colab": {
          "base_uri": "https://localhost:8080/"
        },
        "id": "VTT4eweZIF3I",
        "outputId": "5c5cec94-561f-46db-9343-d7dadc1fd015"
      },
      "execution_count": null,
      "outputs": [
        {
          "output_type": "stream",
          "name": "stdout",
          "text": [
            "                 Model  Accuracy  F1-Score   ROC-AUC\n",
            "1        Random Forest     1.000  1.000000  1.000000\n",
            "4              XGBoost     1.000  1.000000  1.000000\n",
            "0  Logistic Regression     0.960  0.976190  0.996279\n",
            "2                  SVM     0.940  0.964912  0.989901\n",
            "3                  KNN     0.905  0.944928  0.941265\n"
          ]
        }
      ]
    },
    {
      "cell_type": "code",
      "source": [
        "#Step-6-> Hyperparameter Tuning\n",
        "param_grid_rf = {\n",
        "    'n_estimators': [50, 100],\n",
        "    'max_depth': [None, 10, 20]\n",
        "}\n",
        "grid_rf = GridSearchCV(RandomForestClassifier(), param_grid_rf, cv=5, scoring='f1')\n",
        "grid_rf.fit(X_train, y_train)\n",
        "\n",
        "print(\"Best RF Parameters:\", grid_rf.best_params_)\n",
        "print(\"Best RF Score:\", grid_rf.best_score_)\n"
      ],
      "metadata": {
        "colab": {
          "base_uri": "https://localhost:8080/"
        },
        "id": "GU7RiGoQINea",
        "outputId": "99b9bf81-58a9-48eb-81b8-fa8eb0360d79"
      },
      "execution_count": null,
      "outputs": [
        {
          "output_type": "stream",
          "name": "stdout",
          "text": [
            "Best RF Parameters: {'max_depth': None, 'n_estimators': 50}\n",
            "Best RF Score: 1.0\n"
          ]
        }
      ]
    },
    {
      "cell_type": "code",
      "source": [
        "#Step-7-> Final Model Evaluation\n",
        "best_model = grid_rf.best_estimator_\n",
        "y_final_pred = best_model.predict(X_test)\n",
        "print(classification_report(y_test, y_final_pred))\n"
      ],
      "metadata": {
        "colab": {
          "base_uri": "https://localhost:8080/"
        },
        "id": "-k3kKZhWIS-O",
        "outputId": "3dbe50be-150f-438b-f627-c4b5794a0a4c"
      },
      "execution_count": null,
      "outputs": [
        {
          "output_type": "stream",
          "name": "stdout",
          "text": [
            "              precision    recall  f1-score   support\n",
            "\n",
            "           0       1.00      1.00      1.00        34\n",
            "           1       1.00      1.00      1.00       166\n",
            "\n",
            "    accuracy                           1.00       200\n",
            "   macro avg       1.00      1.00      1.00       200\n",
            "weighted avg       1.00      1.00      1.00       200\n",
            "\n"
          ]
        }
      ]
    },
    {
      "cell_type": "code",
      "source": [
        "#Step-8-> Visualization\n",
        "   #(a)Confusion Matrix\n",
        "   #(b)ROC Curves\n",
        "sns.heatmap(confusion_matrix(y_test, y_final_pred), annot=True, fmt='d')\n",
        "plt.title(\"Confusion Matrix\")\n",
        "plt.show()\n",
        "\n",
        "fpr, tpr, _ = roc_curve(y_test, best_model.predict_proba(X_test)[:, 1])\n",
        "plt.plot(fpr, tpr, label='ROC Curve')\n",
        "plt.plot([0,1],[0,1],'--')\n",
        "plt.xlabel('False Positive Rate')\n",
        "plt.ylabel('True Positive Rate')\n",
        "plt.title('ROC Curve')\n",
        "plt.legend()\n",
        "plt.show()\n"
      ],
      "metadata": {
        "colab": {
          "base_uri": "https://localhost:8080/",
          "height": 907
        },
        "id": "HKo_1vnqIgrF",
        "outputId": "efddc2b5-2367-4c1b-b528-45245cbc642a"
      },
      "execution_count": null,
      "outputs": [
        {
          "output_type": "display_data",
          "data": {
            "text/plain": [
              "<Figure size 640x480 with 2 Axes>"
            ],
            "image/png": "[encoded data removed]"
          },
          "metadata": {}
        },
        {
          "output_type": "display_data",
          "data": {
            "text/plain": [
              "<Figure size 640x480 with 1 Axes>"
            ],
            "image/png": "[encoded data removed]"
          },
          "metadata": {}
        }
      ]
    },
    {
      "cell_type": "markdown",
      "source": [
        "### (B) Evaluate Using Metrics Like Accuracy, F1-Score, Roc-Auc"
      ],
      "metadata": {
        "id": "h1pDcCn8_BYG"
      }
    },
    {
      "cell_type": "code",
      "source": [
        "from sklearn.metrics import accuracy_score, f1_score, roc_auc_score, classification_report\n",
        "\n",
        "# Dictionary to store results\n",
        "results = []\n",
        "\n",
        "# Models to evaluate\n",
        "models = {\n",
        "    \"Logistic Regression\": LogisticRegression(),\n",
        "    \"Random Forest\": RandomForestClassifier(),\n",
        "    \"SVM\": SVC(probability=True),\n",
        "    \"KNN\": KNeighborsClassifier(),\n",
        "    \"XGBoost\": XGBClassifier(eval_metric='logloss')\n",
        "}\n",
        "\n",
        "# Loop through models\n",
        "for name, model in models.items():\n",
        "    model.fit(X_train, y_train)  # Train\n",
        "    y_pred = model.predict(X_test)  # Predict class\n",
        "    y_proba = model.predict_proba(X_test)[:, 1]  # Predict probabilities\n",
        "\n",
        "    # Metrics\n",
        "    acc = accuracy_score(y_test, y_pred)\n",
        "    f1 = f1_score(y_test, y_pred)\n",
        "    roc = roc_auc_score(y_test, y_proba)\n",
        "\n",
        "    # Store results\n",
        "    results.append({\n",
        "        'Model': name,\n",
        "        'Accuracy': acc,\n",
        "        'F1-Score': f1,\n",
        "        'ROC-AUC': roc\n",
        "    })\n",
        "\n",
        "    print(f\"----- {name} -----\")\n",
        "    print(\"Accuracy:\", acc)\n",
        "    print(\"F1 Score:\", f1)\n",
        "    print(\"ROC-AUC:\", roc)\n",
        "    print(classification_report(y_test, y_pred))\n",
        "    print(\"\\n\")\n",
        "\n",
        "# Convert to DataFrame for comparison\n",
        "import pandas as pd\n",
        "\n",
        "results_df = pd.DataFrame(results).sort_values(by='ROC-AUC', ascending=False)\n",
        "print(\"Model Comparison:\\n\", results_df)\n"
      ],
      "metadata": {
        "id": "9WTECuWkAqbD",
        "colab": {
          "base_uri": "https://localhost:8080/"
        },
        "outputId": "d08dcb47-aaf0-4160-e304-f6fdd651f31f"
      },
      "execution_count": null,
      "outputs": [
        {
          "output_type": "stream",
          "name": "stdout",
          "text": [
            "----- Logistic Regression -----\n",
            "Accuracy: 0.96\n",
            "F1 Score: 0.9761904761904762\n",
            "ROC-AUC: 0.9962792345854004\n",
            "              precision    recall  f1-score   support\n",
            "\n",
            "           0       0.93      0.82      0.88        34\n",
            "           1       0.96      0.99      0.98       166\n",
            "\n",
            "    accuracy                           0.96       200\n",
            "   macro avg       0.95      0.91      0.93       200\n",
            "weighted avg       0.96      0.96      0.96       200\n",
            "\n",
            "\n",
            "\n",
            "----- Random Forest -----\n",
            "Accuracy: 1.0\n",
            "F1 Score: 1.0\n",
            "ROC-AUC: 1.0\n",
            "              precision    recall  f1-score   support\n",
            "\n",
            "           0       1.00      1.00      1.00        34\n",
            "           1       1.00      1.00      1.00       166\n",
            "\n",
            "    accuracy                           1.00       200\n",
            "   macro avg       1.00      1.00      1.00       200\n",
            "weighted avg       1.00      1.00      1.00       200\n",
            "\n",
            "\n",
            "\n",
            "----- SVM -----\n",
            "Accuracy: 0.94\n",
            "F1 Score: 0.9649122807017544\n",
            "ROC-AUC: 0.989900779588944\n",
            "              precision    recall  f1-score   support\n",
            "\n",
            "           0       0.96      0.68      0.79        34\n",
            "           1       0.94      0.99      0.96       166\n",
            "\n",
            "    accuracy                           0.94       200\n",
            "   macro avg       0.95      0.84      0.88       200\n",
            "weighted avg       0.94      0.94      0.94       200\n",
            "\n",
            "\n",
            "\n",
            "----- KNN -----\n",
            "Accuracy: 0.905\n",
            "F1 Score: 0.9449275362318841\n",
            "ROC-AUC: 0.9412650602409638\n",
            "              precision    recall  f1-score   support\n",
            "\n",
            "           0       0.86      0.53      0.65        34\n",
            "           1       0.91      0.98      0.94       166\n",
            "\n",
            "    accuracy                           0.91       200\n",
            "   macro avg       0.88      0.76      0.80       200\n",
            "weighted avg       0.90      0.91      0.90       200\n",
            "\n",
            "\n",
            "\n",
            "----- XGBoost -----\n",
            "Accuracy: 1.0\n",
            "F1 Score: 1.0\n",
            "ROC-AUC: 1.0\n",
            "              precision    recall  f1-score   support\n",
            "\n",
            "           0       1.00      1.00      1.00        34\n",
            "           1       1.00      1.00      1.00       166\n",
            "\n",
            "    accuracy                           1.00       200\n",
            "   macro avg       1.00      1.00      1.00       200\n",
            "weighted avg       1.00      1.00      1.00       200\n",
            "\n",
            "\n",
            "\n",
            "Model Comparison:\n",
            "                  Model  Accuracy  F1-Score   ROC-AUC\n",
            "1        Random Forest     1.000  1.000000  1.000000\n",
            "4              XGBoost     1.000  1.000000  1.000000\n",
            "0  Logistic Regression     0.960  0.976190  0.996279\n",
            "2                  SVM     0.940  0.964912  0.989901\n",
            "3                  KNN     0.905  0.944928  0.941265\n"
          ]
        }
      ]
    },
    {
      "cell_type": "markdown",
      "source": [
        "### (C) Perform Hyperparameter Tuning Using Gridsearchcv."
      ],
      "metadata": {
        "id": "zFhQ01j2_Eek"
      }
    },
    {
      "cell_type": "code",
      "source": [
        "from sklearn.model_selection import GridSearchCV\n",
        "\n",
        "# Parameter grid\n",
        "param_grid = {\n",
        "    'n_estimators': [50, 100, 150],\n",
        "    'max_depth': [None, 10, 20],\n",
        "    'min_samples_split': [2, 5, 10]\n",
        "}\n",
        "\n",
        "# GridSearchCV setup\n",
        "grid_search = GridSearchCV(\n",
        "    estimator=RandomForestClassifier(random_state=42),\n",
        "    param_grid=param_grid,\n",
        "    cv=5,\n",
        "    scoring='f1',\n",
        "    n_jobs=-1\n",
        ")\n",
        "\n",
        "grid_search.fit(X_train, y_train)\n",
        "\n",
        "# Best parameters and score\n",
        "print(\"Best Parameters (GridSearchCV):\", grid_search.best_params_)\n",
        "print(\"Best F1 Score (GridSearchCV):\", grid_search.best_score_)\n"
      ],
      "metadata": {
        "colab": {
          "base_uri": "https://localhost:8080/"
        },
        "id": "53VLq4K0Jvxf",
        "outputId": "9e4aa272-7fff-44c6-f42a-b9610f9f3a00"
      },
      "execution_count": null,
      "outputs": [
        {
          "output_type": "stream",
          "name": "stdout",
          "text": [
            "Best Parameters (GridSearchCV): {'max_depth': None, 'min_samples_split': 2, 'n_estimators': 50}\n",
            "Best F1 Score (GridSearchCV): 1.0\n"
          ]
        }
      ]
    },
    {
      "cell_type": "markdown",
      "source": [
        "### (D) Perform Hyperparameter Tuning Using Randomizedsearchcv."
      ],
      "metadata": {
        "id": "q8yHBSm__H73"
      }
    },
    {
      "cell_type": "code",
      "execution_count": null,
      "metadata": {
        "id": "yrlVZqpY-lVu",
        "colab": {
          "base_uri": "https://localhost:8080/"
        },
        "outputId": "a5633fe0-aa07-4891-8fed-021cbd13fe5a"
      },
      "outputs": [
        {
          "output_type": "stream",
          "name": "stdout",
          "text": [
            "Best Parameters (RandomizedSearchCV): {'max_depth': 15, 'min_samples_split': 9, 'n_estimators': 70}\n",
            "Best F1 Score (RandomizedSearchCV): 1.0\n"
          ]
        }
      ],
      "source": [
        "from sklearn.model_selection import RandomizedSearchCV\n",
        "from scipy.stats import randint\n",
        "\n",
        "# Random parameter distribution\n",
        "param_dist = {\n",
        "    'n_estimators': randint(50, 200),\n",
        "    'max_depth': [None] + list(range(5, 30, 5)),\n",
        "    'min_samples_split': randint(2, 11)\n",
        "}\n",
        "\n",
        "# RandomizedSearchCV setup\n",
        "random_search = RandomizedSearchCV(\n",
        "    estimator=RandomForestClassifier(random_state=42),\n",
        "    param_distributions=param_dist,\n",
        "    n_iter=10,  # Number of random combinations to try\n",
        "    cv=5,\n",
        "    scoring='f1',\n",
        "    random_state=42,\n",
        "    n_jobs=-1\n",
        ")\n",
        "\n",
        "random_search.fit(X_train, y_train)\n",
        "\n",
        "# Best parameters and score\n",
        "print(\"Best Parameters (RandomizedSearchCV):\", random_search.best_params_)\n",
        "print(\"Best F1 Score (RandomizedSearchCV):\", random_search.best_score_)\n"
      ]
    }
  ]
}